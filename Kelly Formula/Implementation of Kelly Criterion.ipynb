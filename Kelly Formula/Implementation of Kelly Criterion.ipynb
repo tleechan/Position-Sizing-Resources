{
 "cells": [
  {
   "cell_type": "markdown",
   "id": "f1178c71-8e3a-45a0-8fac-4469c8789939",
   "metadata": {},
   "source": [
    "# Notebook Instructions\n",
    "\n",
    "1. If you are new to Jupyter notebooks, please go through this introductory manual <a href='https://quantra.quantinsti.com/quantra-notebook' target=\"_blank\">here</a>.\n",
    "1. Any changes made in this notebook would be lost after you close the browser window. **You can download the notebook to save your work on your PC.**\n",
    "1. Before running this notebook on your local PC:<br>\n",
    "i.  You need to set up a Python environment and the relevant packages on your local PC. To do so, go through the section on \"**Run Codes Locally on Your Machine**\" in the course.<br>\n",
    "ii. You need to **download the zip file available in the last unit** of this course. The zip file contains the data files and/or python modules that might be required to run this notebook."
   ]
  },
  {
   "cell_type": "markdown",
   "id": "84493752",
   "metadata": {
    "id": "a1acf499"
   },
   "source": [
    "# Implementation of Kelly Criterion\n",
    "\n",
    "Kelly criterion `K%` formula is used by traders and investors to manage their trade size. The equation uses:\n",
    "1. Winning probability (W) as the expectation of a trade being positive\n",
    "2. Win/Loss ratio (R)\n",
    "\n",
    "After completing this notebook, you will be able to implement the Kelly criterion in Python.\n",
    "\n",
    "In this notebook, you will perform the following steps:\n",
    "\n",
    "1. [Read the Data](#read)\n",
    "2. [Kelly Criterion Logic](#strategy_logic)"
   ]
  },
  {
   "cell_type": "markdown",
   "id": "e6e0ca5e",
   "metadata": {
    "id": "f56aff15-c816-49a2-b406-4d826670fc26"
   },
   "source": [
    "## Import Libraries"
   ]
  },
  {
   "cell_type": "code",
   "execution_count": 1,
   "id": "27462213",
   "metadata": {
    "id": "508a00e6-3bcb-49a7-a830-3b11bccab06d"
   },
   "outputs": [],
   "source": [
    "# Data manipulation\n",
    "import pandas as pd\n",
    "\n",
    "# Ignore warnings\n",
    "import warnings \n",
    "warnings.filterwarnings('ignore')\n",
    "\n",
    "# Set path\n",
    "import sys\n",
    "sys.path.append(\"..\")"
   ]
  },
  {
   "cell_type": "markdown",
   "id": "249d280d",
   "metadata": {
    "id": "14fea1da"
   },
   "source": [
    "<a id='read'></a>\n",
    "## Read the Data\n",
    "The index reversal strategy's trading signal and the portfolio value are read from a file named `strategy_data.csv`."
   ]
  },
  {
   "cell_type": "code",
   "execution_count": 2,
   "id": "a0932069",
   "metadata": {
    "id": "212876ab",
    "outputId": "e5184d0c-892b-43ad-8cb4-a34730b330d3",
    "tags": []
   },
   "outputs": [
    {
     "data": {
      "text/html": [
       "<div>\n",
       "<style scoped>\n",
       "    .dataframe tbody tr th:only-of-type {\n",
       "        vertical-align: middle;\n",
       "    }\n",
       "\n",
       "    .dataframe tbody tr th {\n",
       "        vertical-align: top;\n",
       "    }\n",
       "\n",
       "    .dataframe thead th {\n",
       "        text-align: right;\n",
       "    }\n",
       "</style>\n",
       "<table border=\"1\" class=\"dataframe\">\n",
       "  <thead>\n",
       "    <tr style=\"text-align: right;\">\n",
       "      <th></th>\n",
       "      <th>signal</th>\n",
       "      <th>returns</th>\n",
       "      <th>cumulative_returns</th>\n",
       "    </tr>\n",
       "  </thead>\n",
       "  <tbody>\n",
       "    <tr>\n",
       "      <th>2005-01-03</th>\n",
       "      <td>0</td>\n",
       "      <td>-0.000000</td>\n",
       "      <td>1.000000</td>\n",
       "    </tr>\n",
       "    <tr>\n",
       "      <th>2005-01-04</th>\n",
       "      <td>1</td>\n",
       "      <td>-0.000000</td>\n",
       "      <td>1.000000</td>\n",
       "    </tr>\n",
       "    <tr>\n",
       "      <th>2005-01-05</th>\n",
       "      <td>1</td>\n",
       "      <td>-0.003537</td>\n",
       "      <td>0.996463</td>\n",
       "    </tr>\n",
       "    <tr>\n",
       "      <th>2005-01-06</th>\n",
       "      <td>0</td>\n",
       "      <td>0.003296</td>\n",
       "      <td>0.999747</td>\n",
       "    </tr>\n",
       "    <tr>\n",
       "      <th>2005-01-07</th>\n",
       "      <td>0</td>\n",
       "      <td>-0.000000</td>\n",
       "      <td>0.999747</td>\n",
       "    </tr>\n",
       "  </tbody>\n",
       "</table>\n",
       "</div>"
      ],
      "text/plain": [
       "            signal   returns  cumulative_returns\n",
       "2005-01-03       0 -0.000000            1.000000\n",
       "2005-01-04       1 -0.000000            1.000000\n",
       "2005-01-05       1 -0.003537            0.996463\n",
       "2005-01-06       0  0.003296            0.999747\n",
       "2005-01-07       0 -0.000000            0.999747"
      ]
     },
     "execution_count": 2,
     "metadata": {},
     "output_type": "execute_result"
    }
   ],
   "source": [
    "# Updating the dataframe to keep only trade day\n",
    "strategy = pd.read_csv('../data_modules/strategy_data.csv',\n",
    "                       index_col=0, parse_dates=True)\n",
    "\n",
    "# Preview the strategy data\n",
    "strategy.head()"
   ]
  },
  {
   "cell_type": "markdown",
   "id": "4af9e922",
   "metadata": {
    "id": "41f2df27"
   },
   "source": [
    "<a id='strategy_logic'></a>\n",
    "## Kelly Criterion Logic\n",
    "1. Count number of winning and losing trades.\n",
    "2. Calculate `Average Win` and `Average Loss` per trade.\n",
    "3. Calculate winning probability `W` and Win/Loss ratio `R`.\n",
    "4. Calculate `K%`.\n",
    "\n",
    "#### Count the number of winning and losing trades\n",
    "Since strategy is being rebalanced everyday, to count the total number of trades, we will calculate the total number of non-zero returns."
   ]
  },
  {
   "cell_type": "code",
   "execution_count": 3,
   "id": "04fc110b",
   "metadata": {
    "id": "4a02bb2f-7d10-44a4-944d-c214996032ba",
    "outputId": "2b04eb06-e745-4e93-8e6b-e51c06ddf80e",
    "tags": []
   },
   "outputs": [
    {
     "name": "stdout",
     "output_type": "stream",
     "text": [
      "Number of trades:  503\n",
      "Number of positive trades:  297\n",
      "Number of negative trades:  206\n"
     ]
    }
   ],
   "source": [
    "# Count number of trades\n",
    "number_of_trades = strategy['signal'].sum()\n",
    "print(\"Number of trades: \", number_of_trades)\n",
    "\n",
    "# Count the number of positive trades\n",
    "positive_trades = strategy[strategy['returns'] > 0].count()[0]\n",
    "print(\"Number of positive trades: \", positive_trades)\n",
    "\n",
    "# Count the number of negative trades\n",
    "negative_trades = strategy[strategy['returns'] < 0].count()[0]\n",
    "print(\"Number of negative trades: \", negative_trades)"
   ]
  },
  {
   "cell_type": "markdown",
   "id": "eaa7e6b7",
   "metadata": {
    "id": "89f58b02-e1c9-4203-b4eb-32cec0000467"
   },
   "source": [
    "#### Calculate `Average Win` and `Average Loss` per trade"
   ]
  },
  {
   "cell_type": "code",
   "execution_count": 4,
   "id": "1863c8e3",
   "metadata": {
    "id": "87e6a3d1-7d22-43fd-97b4-c2af7c09a0f7",
    "outputId": "185be01d-7b3b-4913-9aa7-49a76556d0ce",
    "tags": []
   },
   "outputs": [
    {
     "name": "stdout",
     "output_type": "stream",
     "text": [
      "Average win amount:  0.01\n",
      "Average loss amount:  0.01\n"
     ]
    }
   ],
   "source": [
    "# Calculate average return for winning trades\n",
    "average_win = (strategy['returns'][strategy['returns'] > 0].mean())\n",
    "\n",
    "# Calculate average return for losing trade\n",
    "average_loss = (strategy['returns'][strategy['returns'] < 0].mean())\n",
    "\n",
    "print(\"Average win amount: \", round(average_win, 2))\n",
    "print(\"Average loss amount: \", round(abs(average_loss), 2))"
   ]
  },
  {
   "cell_type": "markdown",
   "id": "9cc26617",
   "metadata": {
    "id": "da770d69-77e2-4e12-964d-fefd7fd89687"
   },
   "source": [
    "#### Calculate Winning probability and Win/Loss ratio\n",
    "$$\\text{Win probability = }\\frac{Number\\ of\\ positive\\ trades}{Total\\ \\ number \\ of\\ trades}$$\n",
    "\n",
    "\n",
    "$$\\text{Win/Loss ratio = }\\frac{Average\\ winning\\ trade\\ amount}{Average\\ losing\\ trade\\ amount}$$"
   ]
  },
  {
   "cell_type": "code",
   "execution_count": 5,
   "id": "351a00cf",
   "metadata": {
    "id": "99d1ea67-e6e7-406c-8fd0-97ca4d9a34f9"
   },
   "outputs": [],
   "source": [
    "# Calculate winning probability\n",
    "W = positive_trades / number_of_trades\n",
    "\n",
    "# Calculate Win/Loss ratio\n",
    "R = average_win / abs(average_loss)"
   ]
  },
  {
   "cell_type": "markdown",
   "id": "a4ef379f",
   "metadata": {
    "id": "5a05097a-323b-4de5-b733-28e1a776574e"
   },
   "source": [
    "#### Calculate Kelly Criterion\n",
    "\n",
    "**Formula for Kelly Criterion**: \n",
    "$$ K\\% = W - \\frac{(1 - W)}{R}$$"
   ]
  },
  {
   "cell_type": "code",
   "execution_count": 6,
   "id": "a4a7c634",
   "metadata": {
    "id": "3358f121-5ec6-4194-b4c0-b6eead316e81",
    "outputId": "db67266e-fd23-4f81-a6e8-69648f06d5f4",
    "tags": []
   },
   "outputs": [
    {
     "name": "stdout",
     "output_type": "stream",
     "text": [
      "Position size as per Kelly criterion:  20.32 %\n"
     ]
    }
   ],
   "source": [
    "# Calculate position size from Kelly criterion\n",
    "K = W - (1 - W)/R\n",
    "\n",
    "print(\"Position size as per Kelly criterion: \", round(K*100, 2), \"%\")"
   ]
  },
  {
   "cell_type": "markdown",
   "id": "c100b27d",
   "metadata": {
    "id": "5210a262-aff1-4ede-81e4-209b685dca99"
   },
   "source": [
    "Therefore, we should use 20.32% of our account value as our trade size.\n",
    "\n",
    "## Tweak the Code\n",
    "You can tweak the code in the following ways:\n",
    "\n",
    "1. Use returns from a different strategy or a list of trades to find the optimal Kelly.\n",
    "2. Change the rules of the current trading strategy to see the effect on K.\n",
    "3. Find optimum Kelly using a subset of the returns. Use the value obtained to backtest the strategy with rest of the returns. \n",
    "\n",
    "In the upcoming unit, we will discuss the limitations of Kelly criterion.<br><br>"
   ]
  }
 ],
 "metadata": {
  "colab": {
   "collapsed_sections": [],
   "name": "Kelly Criterion.ipynb",
   "provenance": []
  },
  "kernelspec": {
   "display_name": "Python 3 (ipykernel)",
   "language": "python",
   "name": "python3"
  },
  "language_info": {
   "codemirror_mode": {
    "name": "ipython",
    "version": 3
   },
   "file_extension": ".py",
   "mimetype": "text/x-python",
   "name": "python",
   "nbconvert_exporter": "python",
   "pygments_lexer": "ipython3",
   "version": "3.11.9"
  }
 },
 "nbformat": 4,
 "nbformat_minor": 5
}
