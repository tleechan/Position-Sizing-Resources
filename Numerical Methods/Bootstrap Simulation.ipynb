{
 "cells": [
  {
   "cell_type": "markdown",
   "id": "f1178c71-8e3a-45a0-8fac-4469c8789939",
   "metadata": {},
   "source": [
    "# Notebook Instructions\n",
    "\n",
    "1. If you are new to Jupyter notebooks, please go through this introductory manual <a href='https://quantra.quantinsti.com/quantra-notebook' target=\"_blank\">here</a>.\n",
    "1. Any changes made in this notebook would be lost after you close the browser window. **You can download the notebook to save your work on your PC.**\n",
    "1. Before running this notebook on your local PC:<br>\n",
    "i.  You need to set up a Python environment and the relevant packages on your local PC. To do so, go through the section on \"**Run Codes Locally on Your Machine**\" in the course.<br>\n",
    "ii. You need to **download the zip file available in the last unit** of this course. The zip file contains the data files and/or python modules that might be required to run this notebook."
   ]
  },
  {
   "cell_type": "markdown",
   "id": "41a859ab",
   "metadata": {
    "id": "KPmu7Gv_tkVV"
   },
   "source": [
    "# Bootstrapping\n",
    "\n",
    "Bootstrapping is a method of random sampling with replacement. We randomly shuffle the original data points and create new data samples of the same size with replacement. As a result, we have an original sample, and new samples called the bootstrap samples. Bootstrap samples are the alternative realities of the original sample.\n",
    "\n",
    "In this notebook, we will analyse the performance of the benchmark strategy (index reversal) using a bootstrapping methodology. The notebook is divided into the following parts:\n",
    "\n",
    "1. [Read the Data](#read)\n",
    "2. [Calculate Drawdown](#drawdown)\n",
    "3. [Bootstrap Simulations](#bootstrap)\n",
    "4. [Bootstrap Drawdown Distribution](#distribution)\n",
    "\n",
    "    \n",
    "## Import Libraries"
   ]
  },
  {
   "cell_type": "code",
   "execution_count": 1,
   "id": "b4f121f8",
   "metadata": {
    "id": "4sDtHi-ktkVW"
   },
   "outputs": [],
   "source": [
    "# Data manipulation\n",
    "import pandas as pd\n",
    "import numpy as np\n",
    "\n",
    "# Statistical analysis\n",
    "import scipy.stats as sc\n",
    "\n",
    "# Import matplotlib and set the style\n",
    "import matplotlib.pyplot as plt\n",
    "%matplotlib inline\n",
    "plt.style.use('seaborn-v0_8-darkgrid')"
   ]
  },
  {
   "cell_type": "markdown",
   "id": "73c0cfee",
   "metadata": {
    "id": "C_QoHIdEtkVX"
   },
   "source": [
    "<a id='read'></a>\n",
    "## Read the Data\n",
    "\n",
    "The SPY ETF price is read from `SPY_data_15_59.csv`, and the index reversal strategy's trading signal and the cumulative returns are read from a file named `strategy_data.csv`. We will calculate the percentage returns of SPY which will be used to create bootstrap samples."
   ]
  },
  {
   "cell_type": "code",
   "execution_count": 2,
   "id": "52b09a8c",
   "metadata": {
    "id": "Fy_P18bjtkVY",
    "outputId": "b2adf184-64cc-4c54-9801-802b7dc9e5b4"
   },
   "outputs": [
    {
     "data": {
      "text/html": [
       "<div>\n",
       "<style scoped>\n",
       "    .dataframe tbody tr th:only-of-type {\n",
       "        vertical-align: middle;\n",
       "    }\n",
       "\n",
       "    .dataframe tbody tr th {\n",
       "        vertical-align: top;\n",
       "    }\n",
       "\n",
       "    .dataframe thead th {\n",
       "        text-align: right;\n",
       "    }\n",
       "</style>\n",
       "<table border=\"1\" class=\"dataframe\">\n",
       "  <thead>\n",
       "    <tr style=\"text-align: right;\">\n",
       "      <th></th>\n",
       "      <th>signal</th>\n",
       "      <th>returns</th>\n",
       "      <th>cumulative_returns</th>\n",
       "      <th>%change</th>\n",
       "    </tr>\n",
       "  </thead>\n",
       "  <tbody>\n",
       "    <tr>\n",
       "      <th>2005-01-03</th>\n",
       "      <td>0</td>\n",
       "      <td>-0.000000</td>\n",
       "      <td>1.000000</td>\n",
       "      <td>-0.008096</td>\n",
       "    </tr>\n",
       "    <tr>\n",
       "      <th>2005-01-04</th>\n",
       "      <td>1</td>\n",
       "      <td>-0.000000</td>\n",
       "      <td>1.000000</td>\n",
       "      <td>-0.010995</td>\n",
       "    </tr>\n",
       "    <tr>\n",
       "      <th>2005-01-05</th>\n",
       "      <td>1</td>\n",
       "      <td>-0.003537</td>\n",
       "      <td>0.996463</td>\n",
       "      <td>-0.003537</td>\n",
       "    </tr>\n",
       "    <tr>\n",
       "      <th>2005-01-06</th>\n",
       "      <td>0</td>\n",
       "      <td>0.003296</td>\n",
       "      <td>0.999747</td>\n",
       "      <td>0.003296</td>\n",
       "    </tr>\n",
       "    <tr>\n",
       "      <th>2005-01-07</th>\n",
       "      <td>0</td>\n",
       "      <td>-0.000000</td>\n",
       "      <td>0.999747</td>\n",
       "      <td>-0.001264</td>\n",
       "    </tr>\n",
       "  </tbody>\n",
       "</table>\n",
       "</div>"
      ],
      "text/plain": [
       "            signal   returns  cumulative_returns   %change\n",
       "2005-01-03       0 -0.000000            1.000000 -0.008096\n",
       "2005-01-04       1 -0.000000            1.000000 -0.010995\n",
       "2005-01-05       1 -0.003537            0.996463 -0.003537\n",
       "2005-01-06       0  0.003296            0.999747  0.003296\n",
       "2005-01-07       0 -0.000000            0.999747 -0.001264"
      ]
     },
     "execution_count": 2,
     "metadata": {},
     "output_type": "execute_result"
    }
   ],
   "source": [
    "# Read the price data of one minute before the market close\n",
    "spy_price = pd.read_csv(\n",
    "    '../data_modules/SPY_data_15_59.csv', index_col=0, parse_dates=True)\n",
    "\n",
    "# Set the date as the index for the price data\n",
    "spy_price.index = pd.to_datetime(spy_price.index.date)\n",
    "\n",
    "\n",
    "# Read the signal and cumulative returns of the index reversal strategy\n",
    "strategy = pd.read_csv('../data_modules/strategy_data.csv',\n",
    "                       index_col=0, parse_dates=True)\n",
    "\n",
    "# Calculate percentage change of SPY\n",
    "strategy['%change'] =  spy_price['Close'].pct_change()\n",
    "\n",
    "# Preview the strategy data\n",
    "strategy.head()"
   ]
  },
  {
   "cell_type": "markdown",
   "id": "e545f8f9",
   "metadata": {
    "id": "XEDXZGLUtkVa"
   },
   "source": [
    "<a id='drawdown'></a>\n",
    "# Calculate Drawdown\n",
    "\n",
    "We define a function that will calculate the drawdown of the benchmark strategy and the bootstrap samples."
   ]
  },
  {
   "cell_type": "code",
   "execution_count": 3,
   "id": "9021414e",
   "metadata": {
    "id": "q-dxJMshtkVa"
   },
   "outputs": [],
   "source": [
    "def drawdown(portfolio_value):\n",
    "    # Calculate drawdown\n",
    "    drawdown = min(\n",
    "        (portfolio_value / np.maximum.accumulate(portfolio_value) - 1) * 100)\n",
    "    \n",
    "    return drawdown"
   ]
  },
  {
   "cell_type": "markdown",
   "id": "23abe106",
   "metadata": {
    "id": "2TVLJ8-1tkVb"
   },
   "source": [
    "<a id='bootstrap'></a>\n",
    "## Bootstrap Simulation\n",
    "\n",
    "The original data consists of 503 daily percentage changes. Using the orginal dataset, we will create new data samples of the same size by drawing from the original sample of data with replacement. "
   ]
  },
  {
   "cell_type": "code",
   "execution_count": 4,
   "id": "4e6d2d6e",
   "metadata": {
    "id": "orEsn5jDtkVc",
    "outputId": "7345bdf5-bddb-4b3f-c39a-605b9d875f7b"
   },
   "outputs": [
    {
     "data": {
      "text/plain": [
       "503"
      ]
     },
     "execution_count": 4,
     "metadata": {},
     "output_type": "execute_result"
    }
   ],
   "source": [
    "# Keep only those % change values that has signal 1\n",
    "original_dataset = strategy[strategy['signal'].shift(1) == 1]['%change']\n",
    "\n",
    "len(original_dataset)"
   ]
  },
  {
   "cell_type": "markdown",
   "id": "2ae40970",
   "metadata": {
    "id": "tFwHn8HytkVc"
   },
   "source": [
    "We run 500 bootstrap samples to form an opinion about a parameter (maximal drawdown) that characterizes the whole data set. We reshuffle the original sequence, but we do not change the results of individual trades. "
   ]
  },
  {
   "cell_type": "code",
   "execution_count": 5,
   "id": "d1af5c2b",
   "metadata": {
    "id": "Iw1-h2XytkVd",
    "outputId": "04d28ef9-5156-4eaa-e67d-382eb0e85220",
    "scrolled": true
   },
   "outputs": [
    {
     "name": "stdout",
     "output_type": "stream",
     "text": [
      "Benchmark DD: -18.72\n",
      "Bootstrap median DD:-18.8\n",
      "Benchmark percentile: 49.199999999999996\n"
     ]
    }
   ],
   "source": [
    "# Define initial capital\n",
    "intial_capital = 10000\n",
    "\n",
    "# Define the number of simulations. This is for the illustration purposes.\n",
    "N = 500\n",
    "\n",
    "# List to store bootstrap sample drawdowns\n",
    "drawdowns = []\n",
    "\n",
    "for i in range(N):\n",
    "    # Resuffle the returns bootstrap sample\n",
    "    bootstrap_samples = original_dataset.values\n",
    "    np.random.shuffle(bootstrap_samples)\n",
    "    bootstrap_samples = pd.Series(bootstrap_samples)\n",
    "\n",
    "    # Calculate bootstrap samples drawdown\n",
    "    bootstrap_portfolio_value = (\n",
    "        bootstrap_samples + 1).cumprod() * intial_capital\n",
    "    stats = drawdown(bootstrap_portfolio_value)\n",
    "    drawdowns.append(stats)\n",
    "\n",
    "# Calculate benchmark drawdown\n",
    "benchmark_dd = drawdown(\n",
    "    strategy['cumulative_returns'] * intial_capital)\n",
    "\n",
    "# Calculate benchmark percentile w.r.t bootstrap samples drawdown\n",
    "benchmark_percentile = sc.percentileofscore(drawdowns, benchmark_dd)\n",
    "\n",
    "# Print the results\n",
    "print(f'Benchmark DD: {np.round(benchmark_dd, 2)}\\\n",
    "\\nBootstrap median DD:{np.round(np.median(drawdowns),2)}\\\n",
    "\\nBenchmark percentile: {100-benchmark_percentile}')"
   ]
  },
  {
   "cell_type": "markdown",
   "id": "b1ddda8a",
   "metadata": {
    "id": "X9e9U4H0tkVd"
   },
   "source": [
    "The median maximal drawdown was around -18%, and the benchmark -18.72% drawdown is close to the 50th percentile of all scenarios. It means that there were 50% of scenarios when the maximal drawdown exceeded benchmark case.\n",
    "\n",
    "<a id='distribution'></a>\n",
    "# Bootstrap Drawdown Distribution\n",
    "\n",
    "We define a range of percentile from 0 to 100 and store bootstrap samples drawdown for each percentile. Then we plot the drawdown distribution."
   ]
  },
  {
   "cell_type": "code",
   "execution_count": 6,
   "id": "c75e948d",
   "metadata": {
    "id": "ET6O4RintkVe",
    "outputId": "cbd71cda-4f0c-408d-f886-713d2741460d"
   },
   "outputs": [
    {
     "data": {
      "text/html": [
       "<div>\n",
       "<style scoped>\n",
       "    .dataframe tbody tr th:only-of-type {\n",
       "        vertical-align: middle;\n",
       "    }\n",
       "\n",
       "    .dataframe tbody tr th {\n",
       "        vertical-align: top;\n",
       "    }\n",
       "\n",
       "    .dataframe thead th {\n",
       "        text-align: right;\n",
       "    }\n",
       "</style>\n",
       "<table border=\"1\" class=\"dataframe\">\n",
       "  <thead>\n",
       "    <tr style=\"text-align: right;\">\n",
       "      <th></th>\n",
       "      <th>Percentile</th>\n",
       "      <th>Drawdown</th>\n",
       "    </tr>\n",
       "  </thead>\n",
       "  <tbody>\n",
       "    <tr>\n",
       "      <th>0</th>\n",
       "      <td>0.0</td>\n",
       "      <td>-10.249655</td>\n",
       "    </tr>\n",
       "    <tr>\n",
       "      <th>1</th>\n",
       "      <td>5.0</td>\n",
       "      <td>-13.492807</td>\n",
       "    </tr>\n",
       "    <tr>\n",
       "      <th>2</th>\n",
       "      <td>10.0</td>\n",
       "      <td>-14.316355</td>\n",
       "    </tr>\n",
       "    <tr>\n",
       "      <th>3</th>\n",
       "      <td>15.0</td>\n",
       "      <td>-14.930173</td>\n",
       "    </tr>\n",
       "    <tr>\n",
       "      <th>4</th>\n",
       "      <td>20.0</td>\n",
       "      <td>-15.399922</td>\n",
       "    </tr>\n",
       "    <tr>\n",
       "      <th>5</th>\n",
       "      <td>25.0</td>\n",
       "      <td>-16.091575</td>\n",
       "    </tr>\n",
       "    <tr>\n",
       "      <th>6</th>\n",
       "      <td>30.0</td>\n",
       "      <td>-16.757244</td>\n",
       "    </tr>\n",
       "    <tr>\n",
       "      <th>7</th>\n",
       "      <td>35.0</td>\n",
       "      <td>-17.294391</td>\n",
       "    </tr>\n",
       "    <tr>\n",
       "      <th>8</th>\n",
       "      <td>40.0</td>\n",
       "      <td>-17.811469</td>\n",
       "    </tr>\n",
       "    <tr>\n",
       "      <th>9</th>\n",
       "      <td>45.0</td>\n",
       "      <td>-18.290476</td>\n",
       "    </tr>\n",
       "    <tr>\n",
       "      <th>10</th>\n",
       "      <td>50.0</td>\n",
       "      <td>-18.796078</td>\n",
       "    </tr>\n",
       "    <tr>\n",
       "      <th>11</th>\n",
       "      <td>55.0</td>\n",
       "      <td>-19.313746</td>\n",
       "    </tr>\n",
       "    <tr>\n",
       "      <th>12</th>\n",
       "      <td>60.0</td>\n",
       "      <td>-19.936119</td>\n",
       "    </tr>\n",
       "    <tr>\n",
       "      <th>13</th>\n",
       "      <td>65.0</td>\n",
       "      <td>-20.619784</td>\n",
       "    </tr>\n",
       "    <tr>\n",
       "      <th>14</th>\n",
       "      <td>70.0</td>\n",
       "      <td>-21.354986</td>\n",
       "    </tr>\n",
       "    <tr>\n",
       "      <th>15</th>\n",
       "      <td>75.0</td>\n",
       "      <td>-22.007454</td>\n",
       "    </tr>\n",
       "    <tr>\n",
       "      <th>16</th>\n",
       "      <td>80.0</td>\n",
       "      <td>-22.872145</td>\n",
       "    </tr>\n",
       "    <tr>\n",
       "      <th>17</th>\n",
       "      <td>85.0</td>\n",
       "      <td>-24.294973</td>\n",
       "    </tr>\n",
       "    <tr>\n",
       "      <th>18</th>\n",
       "      <td>90.0</td>\n",
       "      <td>-25.503367</td>\n",
       "    </tr>\n",
       "    <tr>\n",
       "      <th>19</th>\n",
       "      <td>95.0</td>\n",
       "      <td>-28.322429</td>\n",
       "    </tr>\n",
       "    <tr>\n",
       "      <th>20</th>\n",
       "      <td>100.0</td>\n",
       "      <td>-36.948842</td>\n",
       "    </tr>\n",
       "  </tbody>\n",
       "</table>\n",
       "</div>"
      ],
      "text/plain": [
       "    Percentile   Drawdown\n",
       "0          0.0 -10.249655\n",
       "1          5.0 -13.492807\n",
       "2         10.0 -14.316355\n",
       "3         15.0 -14.930173\n",
       "4         20.0 -15.399922\n",
       "5         25.0 -16.091575\n",
       "6         30.0 -16.757244\n",
       "7         35.0 -17.294391\n",
       "8         40.0 -17.811469\n",
       "9         45.0 -18.290476\n",
       "10        50.0 -18.796078\n",
       "11        55.0 -19.313746\n",
       "12        60.0 -19.936119\n",
       "13        65.0 -20.619784\n",
       "14        70.0 -21.354986\n",
       "15        75.0 -22.007454\n",
       "16        80.0 -22.872145\n",
       "17        85.0 -24.294973\n",
       "18        90.0 -25.503367\n",
       "19        95.0 -28.322429\n",
       "20       100.0 -36.948842"
      ]
     },
     "execution_count": 6,
     "metadata": {},
     "output_type": "execute_result"
    }
   ],
   "source": [
    "# Define steps for percentile\n",
    "step = np.arange(0.0, 1.05, 0.05)\n",
    "\n",
    "# Dataframe to store bootstrap drawdowns\n",
    "bootstrap_distribution = pd.DataFrame()\n",
    "\n",
    "# Calculate percentile\n",
    "bootstrap_distribution['Percentile'] = step*100\n",
    "\n",
    "# Calculate bootstrap drawdowns for each percentile\n",
    "bootstrap_distribution['Drawdown'] = np.percentile(drawdowns, (1-step)*100)\n",
    "\n",
    "bootstrap_distribution"
   ]
  },
  {
   "cell_type": "code",
   "execution_count": 7,
   "id": "69d3e757",
   "metadata": {
    "id": "epb5FCubtkVf",
    "outputId": "eefb13e7-99a3-4f7f-f5e8-d100667fadc1"
   },
   "outputs": [
    {
     "data": {
      "image/png": "[encoded data removed]",
      "text/plain": [
       "<Figure size 1500x700 with 1 Axes>"
      ]
     },
     "metadata": {},
     "output_type": "display_data"
    }
   ],
   "source": [
    "# Plot bootstrap drawdowns \n",
    "bootstrap_distribution.plot(x='Percentile', y='Drawdown', figsize=(15, 7))\n",
    "\n",
    "# Set the title and axes lables\n",
    "plt.title('Drawdown Distribution', fontsize=14)\n",
    "plt.ylabel('Drawdown (%)', fontsize=12)\n",
    "plt.xlabel('Percentile', fontsize=12)\n",
    "plt.show()"
   ]
  },
  {
   "cell_type": "markdown",
   "id": "5ee74e9d",
   "metadata": {
    "id": "ULTWA3gvtkVg"
   },
   "source": [
    "In the above graph, you can see that the median drawdown was around -18%. Thus the benchmark -18.7% maximal drawdown is close to the 50th percentile of all scenarios.<br><br>"
   ]
  }
 ],
 "metadata": {
  "colab": {
   "collapsed_sections": [],
   "name": "Bootstrapping.ipynb",
   "provenance": []
  },
  "kernelspec": {
   "display_name": "Python 3 (ipykernel)",
   "language": "python",
   "name": "python3"
  },
  "language_info": {
   "codemirror_mode": {
    "name": "ipython",
    "version": 3
   },
   "file_extension": ".py",
   "mimetype": "text/x-python",
   "name": "python",
   "nbconvert_exporter": "python",
   "pygments_lexer": "ipython3",
   "version": "3.11.9"
  }
 },
 "nbformat": 4,
 "nbformat_minor": 5
}
